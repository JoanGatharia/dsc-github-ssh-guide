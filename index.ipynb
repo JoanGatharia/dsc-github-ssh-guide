{
 "cells": [
  {
   "cell_type": "markdown",
   "metadata": {
    "id": "claLdZGWixtL"
   },
   "source": [
    "# Setting up an SSH token for a GitHub Account"
   ]
  },
  {
   "cell_type": "markdown",
   "metadata": {
    "id": "xCvC8x_yi5yr"
   },
   "source": [
    "The following guide is a concatenation of three different tutorials published by GitHub. The original tutorials are linked at the bottom of the document for reference.\n"
   ]
  },
  {
   "cell_type": "markdown",
   "metadata": {
    "id": "Tcpf0PHNjACK"
   },
   "source": [
    "In this document you will set up a [Secure Shell Protocol (SSH)](https://https://en.wikipedia.org/wiki/Secure_Shell) token to access GitHub securely over an unsecured network. When you create a SSH token pair you are using your computer to generate private and public SSH keys. The private key is added to the SSH agent on your local machine, and the public key is added to your GitHub account. When you clone repositories from GitHub using SSH, GitHub compares the public key to your private key to authenticate you as the correct user with the correct permissions. To get started using you will need a GitHub account, to create one [click here](https://github.com/signup)"
   ]
  },
  {
   "cell_type": "markdown",
   "metadata": {
    "id": "yh0f02b5nZxp"
   },
   "source": [
    "GitHub's [Connect to SSH documentattion](https://docs.github.com/en/authentication/connecting-to-github-with-ssh/about-ssh)."
   ]
  },
  {
   "cell_type": "markdown",
   "metadata": {
    "id": "Nwm3MdsDnR04"
   },
   "source": [
    "Once you have an account, to set up SSH do the following:"
   ]
  },
  {
   "cell_type": "markdown",
   "metadata": {
    "id": "IbtjocMzjUB4"
   },
   "source": [
    "1.   Open a terminal window\n",
    "2.   Paste the following into terminal and replace the email with the email connected to your github account\n",
    "\n",
    "  > `ssh-keygen -t ed25519 -C \"your_email@example.com\"`\n",
    "\n",
    "  You should see an output that looks something like this:\n",
    "\n",
    "  > `> Generating public/private ed25519 key pair.`\n",
    "\n",
    "3. You will be prompted to enter a file location for saving the ssh key. Press ENTER which tells to computer to save the key in the default file location\n",
    "\n",
    "  > `> Enter a file in which to save the key`\n",
    "  > `(/Users/you/.ssh/id_ed25519): [Press enter]`\n",
    "\n",
    "4. You will be prompted to enter a passphrase for the ssh key. Press ENTER which instructs the computer not to require a password when using the ssh key\n",
    "\n",
    "  > `> Enter passphrase (empty for no passphrase): [Type a passphrase]`\n",
    "  > `> Enter same passphrase again: [Type passphrase again]`\n",
    "\n",
    "5. Run the following command:\n",
    "\n",
    "  > `eval \"$(ssh-agent -s)\"`\n",
    "\n",
    "6. Run the following in terminal\n",
    "  * Mac computers\n",
    "    > `pbcopy < ~/.ssh/id_ed25519.pub`\n",
    "  * Windows computers\n",
    "    > `clip < ~/.ssh/id_ed25519.pub`\n",
    "\n",
    "7. Navigate to the [settings](https://github.com/settings) page on GitHub.\n",
    "\n",
    "  <img src= 'https://curriculum-content.s3.amazonaws.com/data-science/images/ssh07.png/ssh07.png' alt=\"GitHub Settings\" >\n",
    "\n",
    "8. Select **SSH and GPG keys** from the left side bar.\n",
    "\n",
    "  <img src= 'https://curriculum-content.s3.amazonaws.com/data-science/images/ssh08.png/ssh08.png' alt=\"GitHub sidebar SSH\" >\n",
    "\n",
    "9. Click **New SSH key** or **Add SSH key**.\n",
    "\n",
    "  <img src= 'https://curriculum-content.s3.amazonaws.com/data-science/images/ssh09.png/ssh09.png' alt=\"New/Add GitHub SSH\" >\n",
    "\n",
    "10. In the \"Title\" field, add a descriptive label for the new key. Best to include something about the specific machine you’re working on, since the key should be unique to that environment. For example, if you're using a personal Mac, you might call this key \"Personal MacBook Air\".\n",
    "\n",
    "11. Step 6 stored the ssh key on your clipboard. Click into the **Key** text box and paste the key into the text box.\n",
    "\n",
    "  <img src= 'https://curriculum-content.s3.amazonaws.com/data-science/images/ssh11.png/ssh11.png'  alt=\"GitHub SSH Textbox\" >\n",
    "\n",
    "12. Click **Add SSH key**\n",
    "\n",
    "  <img src= 'https://curriculum-content.s3.amazonaws.com/data-science/images/ssh12.png/ssh12.png'  alt=\"GitHub Add SSH Key\" >\n",
    "\n",
    "13. If prompted, confirm your GitHub password.\n",
    "\n",
    "  <img src= 'https://curriculum-content.s3.amazonaws.com/data-science/images/ssh13.png/ssh13.png'  alt=\"GitHub Confirm password to continue\" >\n",
    "\n",
    "14. Enter the following in a terminal window\n",
    "\n",
    "  > `ssh -T git@github.com`\n",
    "\n",
    "  Note: If you see the following message:\n",
    "\n",
    "  > `> The authenticity of host 'github.com (IP ADDRESS)' can't be established.`\n",
    "  > `> RSA key fingerprint is SHA256:nThbg6kXUpJWGl7E1IGOCspRomTxdCARLviKw6E5SY8`\n",
    "  > `> Are you sure you want to continue connecting (yes/no)?`\n",
    "\n",
    "  Enter `yes`\n",
    "\n",
    "15. If you see the following message, you have successfully connect to github using an ssh key\n",
    "\n",
    "  > `> Hi username! You've successfully authenticated, but GitHub does not`\n",
    "  > `provide shell access`\n",
    "\n",
    "16. Last step is to set ssh as the global authentication protocol by running the following line:\n",
    "\n",
    "  > `git config --global url.ssh://git@github.com/.insteadOf`\n",
    "  > `https://github.com`\n",
    "\n"
   ]
  }
 ],
 "metadata": {
  "colab": {
   "provenance": []
  },
  "kernelspec": {
   "display_name": "Python 3 (ipykernel)",
   "language": "python",
   "name": "python3"
  },
  "language_info": {
   "codemirror_mode": {
    "name": "ipython",
    "version": 3
   },
   "file_extension": ".py",
   "mimetype": "text/x-python",
   "name": "python",
   "nbconvert_exporter": "python",
   "pygments_lexer": "ipython3",
   "version": "3.9.16"
  }
 },
 "nbformat": 4,
 "nbformat_minor": 1
}
